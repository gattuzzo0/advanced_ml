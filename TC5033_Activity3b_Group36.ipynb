{
  "cells": [
    {
      "cell_type": "markdown",
      "id": "940c6dbc",
      "metadata": {
        "id": "940c6dbc"
      },
      "source": [
        "## TC 5033\n",
        "### Word Embeddings\n",
        "\n",
        "<br>\n",
        "\n",
        "#### Alumnos:\n",
        "*   Andre Nicolai Gutiérrez Bautista\n",
        "*   Fernando Guzmán Briones\n",
        "*   Julio Osvaldo Hernández Bucio\n",
        "*   Genaro Rodríguez Vázquez\n",
        "\n",
        "<br>\n",
        "\n",
        "#### Activity 3b: Text Classification using RNNs and AG_NEWS dataset in PyTorch\n",
        "<br>\n",
        "\n",
        "- Objective:\n",
        "    - Understand the basics of Recurrent Neural Networks (RNNs) and their application in text classification.\n",
        "    - Learn how to handle a real-world text dataset, AG_NEWS, in PyTorch.\n",
        "    - Gain hands-on experience in defining, training, and evaluating a text classification model in PyTorch.\n",
        "    \n",
        "<br>\n",
        "\n",
        "- Instructions:\n",
        "    - Data Preparation: Starter code will be provided that loads the AG_NEWS dataset and prepares it for training. Do not modify this part. However, you should be sure to understand it, and comment it, the use of markdown cells is suggested.\n",
        "\n",
        "    - Model Setup: A skeleton code for the RNN model class will be provided. Complete this class and use it to instantiate your model.\n",
        "\n",
        "    - Implementing Accuracy Function: Write a function that takes model predictions and ground truth labels as input and returns the model's accuracy.\n",
        "\n",
        "    - Training Function: Implement a function that performs training on the given model using the AG_NEWS dataset. Your model should achieve an accuracy of at least 80% to get full marks for this part.\n",
        "\n",
        "    - Text Sampling: Write a function that takes a sample text as input and classifies it using your trained model.\n",
        "\n",
        "    - Confusion Matrix: Implement a function to display the confusion matrix for your model on the test data.\n",
        "\n",
        "    - Submission: Submit your completed Jupyter Notebook. Make sure to include a markdown cell at the beginning of the notebook that lists the names of all team members. Teams should consist of 3 to 4 members.\n",
        "    \n",
        "<br>\n",
        "\n",
        "- Evaluation Criteria:\n",
        "\n",
        "    - Correct setup of all the required libraries and modules (10%)\n",
        "    - Code Quality (30%): Your code should be well-organized, clearly commented, and easy to follow. Use also markdown cells for clarity. Comments should be given for all the provided code, this will help you understand its functionality.\n",
        "    \n",
        "   - Functionality (60%):\n",
        "        - All the functions should execute without errors and provide the expected outputs.\n",
        "        - RNN model class (20%)\n",
        "        - Accuracy fucntion (10%)\n",
        "        - Training function (10%)\n",
        "        - Sampling function (10%)\n",
        "        - Confucion matrix (10%)\n",
        "\n",
        "        - The model should achieve at least an 80% accuracy on the AG_NEWS test set for full marks in this criterion.\n"
      ]
    },
    {
      "cell_type": "markdown",
      "id": "4de318da",
      "metadata": {
        "id": "4de318da"
      },
      "source": [
        "Dataset\n",
        "\n",
        "https://pytorch.org/text/stable/datasets.html#text-classification\n",
        "\n",
        "https://paperswithcode.com/dataset/ag-news\n"
      ]
    },
    {
      "cell_type": "markdown",
      "id": "4a9801f9",
      "metadata": {
        "id": "4a9801f9"
      },
      "source": [
        "## Import libraries"
      ]
    },
    {
      "cell_type": "markdown",
      "source": [
        "First it is required to import all the dependencies by using pip install or conda install, depending on the used tool.\n",
        "Once the installation is over remember to reset the environment.\n",
        "<br>\n",
        "If you already installed the dependencies you can comment them."
      ],
      "metadata": {
        "id": "9_GJDCkaMaq6"
      },
      "id": "9_GJDCkaMaq6"
    },
    {
      "cell_type": "code",
      "execution_count": 1,
      "id": "54394f53",
      "metadata": {
        "id": "54394f53"
      },
      "outputs": [],
      "source": [
        "# conda install -c pytorch torchtext\n",
        "# conda install -c pytorch torchdata\n",
        "# conda install pytorch torchvision torchaudio cudatoolkit=10.2 -c pytorch\n",
        "# !pip install scikit-plot\n",
        "# !pip install portalocker\n",
        "# !pip install torchdata\n",
        "# !pip install torchtext\n",
        "# !pip install torchvision torchaudio\n",
        "# !pip install torchmetrics"
      ]
    },
    {
      "cell_type": "code",
      "execution_count": 2,
      "id": "878b524f",
      "metadata": {
        "id": "878b524f"
      },
      "outputs": [],
      "source": [
        "# The following libraries are required for running the given code\n",
        "# Please feel free to add any libraries you consider adecuate to complete the assingment.\n",
        "import numpy as np\n",
        "#PyTorch libraries\n",
        "import torch\n",
        "from torchtext.datasets import AG_NEWS\n",
        "# Dataloader library\n",
        "from torch.utils.data import DataLoader\n",
        "from torch.utils.data.dataset import random_split\n",
        "# Libraries to prepare the data\n",
        "from torchtext.data.utils import get_tokenizer\n",
        "from torchtext.vocab import build_vocab_from_iterator\n",
        "from torchtext.data.functional import to_map_style_dataset\n",
        "# neural layers\n",
        "from torch import nn\n",
        "from torch.nn import functional as F\n",
        "from torch import long, as_tensor, cat\n",
        "# For sample_text\n",
        "from random import randint\n",
        "# For confusionMatrix\n",
        "from torchmetrics import ConfusionMatrix\n",
        "from seaborn import heatmap\n",
        "from torch.utils.data import DataLoader"
      ]
    },
    {
      "cell_type": "code",
      "execution_count": 3,
      "id": "3bab55f3",
      "metadata": {
        "colab": {
          "base_uri": "https://localhost:8080/"
        },
        "id": "3bab55f3",
        "outputId": "626c791c-9a62-454b-ded8-0bbdb2e9234e"
      },
      "outputs": [
        {
          "output_type": "stream",
          "name": "stdout",
          "text": [
            "cuda\n"
          ]
        }
      ],
      "source": [
        "# Use GPU if available\n",
        "device = torch.device(\"cuda\" if torch.cuda.is_available() else \"cpu\")\n",
        "print(device)"
      ]
    },
    {
      "cell_type": "markdown",
      "source": [
        "## Data Loading and tokenization"
      ],
      "metadata": {
        "id": "69g15WCGDdgy"
      },
      "id": "69g15WCGDdgy"
    },
    {
      "cell_type": "markdown",
      "id": "e9c6b784",
      "metadata": {
        "id": "e9c6b784"
      },
      "source": [
        "Classes:\n",
        "\n",
        "* 1 - World\n",
        "\n",
        "* 2 - Sports\n",
        "\n",
        "* 3 - Business\n",
        "\n",
        "* 4 - Sci/Tech\n",
        "\n",
        "We will convert them to:\n",
        "\n",
        "* 0 - World\n",
        "\n",
        "* 1 - Sports\n",
        "\n",
        "* 2 - Business\n",
        "\n",
        "* 3 - Sci/Tech"
      ]
    },
    {
      "cell_type": "markdown",
      "source": [
        "### Load the AG_NEWS dataset\n",
        "\n",
        "\n"
      ],
      "metadata": {
        "id": "v8yExftO1nef"
      },
      "id": "v8yExftO1nef"
    },
    {
      "cell_type": "code",
      "execution_count": 4,
      "id": "49fbed19",
      "metadata": {
        "id": "49fbed19"
      },
      "outputs": [],
      "source": [
        "# Load the AG_NEWS dataset.\n",
        "train_dataset, test_dataset = AG_NEWS()\n",
        "# Converts it to a map-style dataset.\n",
        "train_dataset, test_dataset = to_map_style_dataset(train_dataset), to_map_style_dataset(test_dataset)"
      ]
    },
    {
      "cell_type": "markdown",
      "source": [
        "### Tokenization Setup"
      ],
      "metadata": {
        "id": "wZ8Ck1261778"
      },
      "id": "wZ8Ck1261778"
    },
    {
      "cell_type": "code",
      "execution_count": 5,
      "id": "9c372eb9",
      "metadata": {
        "id": "9c372eb9"
      },
      "outputs": [],
      "source": [
        "# Get the tokeniser\n",
        "# tokeniser object\n",
        "tokeniser = get_tokenizer('basic_english')\n",
        "\n",
        "def yield_tokens(data):\n",
        "    for _, text in data:\n",
        "        yield tokeniser(text)"
      ]
    },
    {
      "cell_type": "code",
      "execution_count": 6,
      "id": "794d0375",
      "metadata": {
        "id": "794d0375"
      },
      "outputs": [],
      "source": [
        "# Build the vocabulary\n",
        "vocab = build_vocab_from_iterator(yield_tokens(train_dataset), specials=[\"<unk>\"])\n",
        "# set unknown token at position 0\n",
        "vocab.set_default_index(vocab[\"<unk>\"])"
      ]
    },
    {
      "cell_type": "code",
      "execution_count": 7,
      "id": "b48268d4",
      "metadata": {
        "colab": {
          "base_uri": "https://localhost:8080/"
        },
        "id": "b48268d4",
        "outputId": "a3631f64-5e13-4144-d3ee-584456dd1930"
      },
      "outputs": [
        {
          "output_type": "stream",
          "name": "stdout",
          "text": [
            "['welcome', 'to', 'te3007'] [3314, 4, 0]\n"
          ]
        }
      ],
      "source": [
        "# Test tokenization\n",
        "tokens = tokeniser('Welcome to TE3007')\n",
        "print(tokens, vocab(tokens))"
      ]
    },
    {
      "cell_type": "markdown",
      "source": [
        "### Data Splitting"
      ],
      "metadata": {
        "id": "UtFwXWcfEnBW"
      },
      "id": "UtFwXWcfEnBW"
    },
    {
      "cell_type": "code",
      "execution_count": 8,
      "id": "c8c8f6a6",
      "metadata": {
        "id": "c8c8f6a6"
      },
      "outputs": [],
      "source": [
        "NUM_TRAIN = int(len(train_dataset)*0.9)\n",
        "NUM_VAL = len(train_dataset) - NUM_TRAIN"
      ]
    },
    {
      "cell_type": "code",
      "execution_count": 9,
      "id": "8290895e",
      "metadata": {
        "id": "8290895e"
      },
      "outputs": [],
      "source": [
        "train_dataset, val_dataset = random_split(train_dataset, [NUM_TRAIN, NUM_VAL])"
      ]
    },
    {
      "cell_type": "code",
      "execution_count": 10,
      "id": "cbc75b54",
      "metadata": {
        "colab": {
          "base_uri": "https://localhost:8080/"
        },
        "id": "cbc75b54",
        "outputId": "1700f7da-f7f9-49dd-a7e4-2bc57c9fa496"
      },
      "outputs": [
        {
          "output_type": "stream",
          "name": "stdout",
          "text": [
            "108000 12000 7600\n"
          ]
        }
      ],
      "source": [
        "# Get the length of every dataset to verify that the split was correct.\n",
        "print(len(train_dataset), len(val_dataset), len(test_dataset))"
      ]
    },
    {
      "cell_type": "markdown",
      "source": [
        "### Data processing and data loader"
      ],
      "metadata": {
        "id": "kwHCpjngE4I6"
      },
      "id": "kwHCpjngE4I6"
    },
    {
      "cell_type": "code",
      "execution_count": 11,
      "id": "ffdbf077",
      "metadata": {
        "id": "ffdbf077"
      },
      "outputs": [],
      "source": [
        "# function passed to the DataLoader to process a batch of data as indicated\n",
        "def collate_batch(batch):\n",
        "    # Get label and text\n",
        "    y, x = list(zip(*batch))\n",
        "\n",
        "    # Create list with indices from tokeniser\n",
        "    x = [vocab(tokeniser(text)) for text in x]\n",
        "    x = [t + ([0]*(max_tokens - len(t))) if len(t) < max_tokens else t[:max_tokens] for t in x]\n",
        "\n",
        "    # Prepare the labels, by subtracting 1 to get them in the range 0-3\n",
        "    return torch.tensor(x, dtype=torch.int32), torch.tensor(y, dtype=torch.int32) - 1"
      ]
    },
    {
      "cell_type": "code",
      "execution_count": 12,
      "id": "5eb459c7",
      "metadata": {
        "id": "5eb459c7"
      },
      "outputs": [],
      "source": [
        "labels =  [\"World\", \"Sports\", \"Business\", \"Sci/Tech\"]\n",
        "max_tokens = 50\n",
        "BATCH_SIZE = 256"
      ]
    },
    {
      "cell_type": "markdown",
      "source": [
        "#### Save Data in loader"
      ],
      "metadata": {
        "id": "obcGsM6sHa7D"
      },
      "id": "obcGsM6sHa7D"
    },
    {
      "cell_type": "code",
      "execution_count": 13,
      "id": "0a55e6ee",
      "metadata": {
        "id": "0a55e6ee"
      },
      "outputs": [],
      "source": [
        "# Create the dataloader instances for each of the data sets.\n",
        "train_loader = DataLoader(train_dataset, batch_size=BATCH_SIZE, collate_fn=collate_batch, shuffle = True)\n",
        "val_loader = DataLoader(val_dataset, batch_size=BATCH_SIZE, collate_fn=collate_batch, shuffle = True)\n",
        "test_loader = DataLoader(test_dataset, batch_size=BATCH_SIZE, collate_fn=collate_batch, shuffle = True)"
      ]
    },
    {
      "cell_type": "markdown",
      "id": "47b98898",
      "metadata": {
        "id": "47b98898"
      },
      "source": [
        "\n",
        "## Build the RNN model"
      ]
    },
    {
      "cell_type": "markdown",
      "source": [
        "### Model definition and training methods"
      ],
      "metadata": {
        "id": "JPUY-NrpJI9y"
      },
      "id": "JPUY-NrpJI9y"
    },
    {
      "cell_type": "markdown",
      "source": [
        "#### RNN Model Class"
      ],
      "metadata": {
        "id": "luYWaX56JnNd"
      },
      "id": "luYWaX56JnNd"
    },
    {
      "cell_type": "code",
      "execution_count": 15,
      "id": "0f7f5621",
      "metadata": {
        "id": "0f7f5621"
      },
      "outputs": [],
      "source": [
        "class RNN_Model_1(nn.Module):\n",
        "    def __init__(self, embed_size, hidden, layers, num_classes):\n",
        "        super().__init__()\n",
        "        self.embedding_layer = nn.Embedding(num_embeddings=len(vocab),\n",
        "                                            embedding_dim=embed_size)\n",
        "\n",
        "        self.rnn = nn.GRU(input_size=embed_size, hidden_size=hidden, num_layers=layers, batch_first=True)\n",
        "\n",
        "        self.fc = nn.Linear(hidden, num_classes)\n",
        "        # Include a weight initializer to improve accuracy.\n",
        "        nn.init.xavier_uniform_(self.fc.weight)\n",
        "\n",
        "    def forward(self, x):\n",
        "        embedded = self.embedding_layer(x)\n",
        "        # Pass the embedded input sequences through the RNN layer.\n",
        "        output, _ = self.rnn(embedded)\n",
        "        # Extract the Hidden State at the Last Time Step.\n",
        "        last_hidden_state = output[:, -1, :]\n",
        "        # Pass the last hidden state through a fully connected layer to get the logits.\n",
        "        logits = self.fc(last_hidden_state)\n",
        "        return logits"
      ]
    },
    {
      "cell_type": "markdown",
      "source": [
        "### Training methods"
      ],
      "metadata": {
        "id": "7vSlOV8wKVNS"
      },
      "id": "7vSlOV8wKVNS"
    },
    {
      "cell_type": "markdown",
      "source": [
        "####Accuracy Method"
      ],
      "metadata": {
        "id": "TEik3xJDJsI2"
      },
      "id": "TEik3xJDJsI2"
    },
    {
      "cell_type": "code",
      "execution_count": 16,
      "id": "2a42613f",
      "metadata": {
        "code_folding": [],
        "id": "2a42613f"
      },
      "outputs": [],
      "source": [
        "def accuracy(model, loader):\n",
        "  # Initialize counters and cost accumulator\n",
        "  total = 0  # Total number of samples\n",
        "  correct = 0  # Number of correctly classified samples\n",
        "  cost = 0.  # Accumulator for the cost (loss)\n",
        "\n",
        "  with torch.no_grad():\n",
        "    model.eval() # Set the model to evaluation mode\n",
        "    for data in loader:\n",
        "      # Unpackage the dataset in np.arrays and labels.\n",
        "      inputs, labels = data[0], data[1]\n",
        "      # outputs = net(images)\n",
        "      xi = inputs.to(device=device)\n",
        "      yi = labels.to(device=device)\n",
        "\n",
        "      yi = yi.type(torch.LongTensor) # <---- Here (casting)\n",
        "      yi = yi.to(device=device)\n",
        "\n",
        "      # Make the predictions.\n",
        "      scores = model(xi)\n",
        "\n",
        "      # Calculate the Negative Log Likelihood (NLL) loss. Use the log_softmax to be able to use the logarithm input.\n",
        "      criterion = nn.NLLLoss()\n",
        "      cost += criterion(F.log_softmax(scores, dim=1), yi).item()\n",
        "\n",
        "      # Obtain the predicted labels\n",
        "      _, pred = torch.max(scores, 1)\n",
        "\n",
        "      # Append the results to update the counters\n",
        "      total += pred.size(0)\n",
        "      correct += (pred == yi).sum().item()\n",
        "\n",
        "  # Return the total cost value and precision of the dataset (loss % accuracy)\n",
        "  return cost/len(data), float(correct)/total"
      ]
    },
    {
      "cell_type": "markdown",
      "source": [
        "#### Train method"
      ],
      "metadata": {
        "id": "GOtTYA16JwMw"
      },
      "id": "GOtTYA16JwMw"
    },
    {
      "cell_type": "code",
      "execution_count": 17,
      "id": "5e843e1f",
      "metadata": {
        "code_folding": [],
        "id": "5e843e1f"
      },
      "outputs": [],
      "source": [
        "def train(model, optimiser, epochs=100):\n",
        "  # Important to include the following line to move the model to the current device\n",
        "  model = model.to(device=device)\n",
        "  # Initialize variables for tracking total training and validation costs\n",
        "  train_cost = 0\n",
        "  val_cost = 0.\n",
        "\n",
        "  # Perform the training for each epoch in the epoch range defined into the hyperparameters section.\n",
        "  for epoch in range(epochs):\n",
        "    # Initialize variables for tracking training statistics within each epoch\n",
        "    running_loss = 0.0\n",
        "    train_correct_num  = 0.\n",
        "    train_total = 0.\n",
        "    train_cost_acum = 0\n",
        "\n",
        "    # Be sure to run the trainings using the training dataset and not the test neither the validation datasets.\n",
        "    for i, data in enumerate(train_loader, 0):\n",
        "      # Set the model to training mode\n",
        "      model.train()\n",
        "\n",
        "      # Extract inputs and labels from the batch\n",
        "      inputs, labels = data[0], data[1]\n",
        "\n",
        "      xi = inputs.to(device=device)\n",
        "      yi = labels.to(device=device)\n",
        "\n",
        "      yi = yi.type(torch.LongTensor) # <---- Here (casting)\n",
        "      yi = yi.to(device=device)\n",
        "\n",
        "      # forward pass\n",
        "      # Obtain model predictions\n",
        "      scores = model(xi)\n",
        "\n",
        "      # Zero the gradients, backward pass, and optimization\n",
        "      optimiser.zero_grad()\n",
        "      criterion = nn.NLLLoss()\n",
        "      cost = criterion(F.log_softmax(scores, dim=1), yi)\n",
        "      cost.backward()\n",
        "      optimiser.step()\n",
        "\n",
        "      # Obtain the predicted class labels\n",
        "      _, pred = torch.max(scores.data, 1)\n",
        "\n",
        "      # Update training statistics\n",
        "      train_correct_num += (pred == yi).sum().item()\n",
        "      train_total += scores.size(0)\n",
        "      train_cost_acum += cost.item()\n",
        "\n",
        "    # Calculate the cost and accuracy after each trained epoch\n",
        "    # We must perform the evaluation of validation dataset (not training)\n",
        "    # If we use the same dataset for the calculation and accuracy then we would have a memory leak issue (undesired).\n",
        "    val_cost, val_acc = accuracy(model, val_loader)\n",
        "\n",
        "    ### Train total -> Trained dataset size\n",
        "    ### train_correct_num  -> Amount of items correctly clasified.\n",
        "    ### train_acc  -> Model accuracy (Desired value: close to 1).\n",
        "    ### train_cost  -> Loss (Acumulated error. Desired value: close be 0)\n",
        "    train_acc = float(train_correct_num)/train_total\n",
        "    train_cost = train_cost_acum/i\n",
        "\n",
        "    # Monitorize the results each 3 epochs to avoid spam and to use the correct amount of epochs\n",
        "    if epoch%3 == 0:\n",
        "      print(f'Epoch:{epoch}, train cost: {train_cost:.6f}, val cost: {val_cost:.6f},'\n",
        "                      f' train acc: {train_acc:.4f}, val acc: {val_acc:4f},'\n",
        "                      f' lr: {optimiser.param_groups[0][\"lr\"]:.6f}')"
      ]
    },
    {
      "cell_type": "markdown",
      "source": [
        "## Model Training"
      ],
      "metadata": {
        "id": "R2qSg3qOJ43e"
      },
      "id": "R2qSg3qOJ43e"
    },
    {
      "cell_type": "markdown",
      "source": [
        "### Setup"
      ],
      "metadata": {
        "id": "HgwF0moaLDHg"
      },
      "id": "HgwF0moaLDHg"
    },
    {
      "cell_type": "markdown",
      "source": [
        "#### Hyperparameters"
      ],
      "metadata": {
        "id": "kAfaESxhJF3o"
      },
      "id": "kAfaESxhJF3o"
    },
    {
      "cell_type": "code",
      "execution_count": 14,
      "id": "50f20793",
      "metadata": {
        "id": "50f20793"
      },
      "outputs": [],
      "source": [
        "# Required hyperparameters to create the RNN Model as the number of neurons and the number of clases (in this case 4).\n",
        "EMBEDDING_SIZE = 300\n",
        "NEURONS = 256\n",
        "LAYERS = 2\n",
        "NUM_CLASSES = 4\n",
        "\n",
        "# Hyperparameters to run the training\n",
        "epochs = 10\n",
        "lr = 0.0001"
      ]
    },
    {
      "cell_type": "markdown",
      "source": [
        "#### Instantiation"
      ],
      "metadata": {
        "id": "ABuz1dkWTiYw"
      },
      "id": "ABuz1dkWTiYw"
    },
    {
      "cell_type": "code",
      "execution_count": 18,
      "id": "87775b29",
      "metadata": {
        "id": "87775b29"
      },
      "outputs": [],
      "source": [
        "# Instantiate a new RNN Model as it was build in the \"Model Definition\" section.\n",
        "gru_model = RNN_Model_1(EMBEDDING_SIZE, NEURONS, LAYERS, NUM_CLASSES)\n",
        "optimiser = torch.optim.Adam(gru_model.parameters(), lr=lr)"
      ]
    },
    {
      "cell_type": "markdown",
      "source": [
        "### Training and accuracy evaluation"
      ],
      "metadata": {
        "id": "gpU1OnCZLQOG"
      },
      "id": "gpU1OnCZLQOG"
    },
    {
      "cell_type": "code",
      "execution_count": 19,
      "id": "aec12a1b",
      "metadata": {
        "scrolled": true,
        "colab": {
          "base_uri": "https://localhost:8080/"
        },
        "id": "aec12a1b",
        "outputId": "cc5bac57-a05c-4fca-c6fb-00d47aab1c4f"
      },
      "outputs": [
        {
          "output_type": "stream",
          "name": "stdout",
          "text": [
            "Epoch:0, train cost: 1.113859, val cost: 14.244642, train acc: 0.4785, val acc: 0.765000, lr: 0.000100\n",
            "Epoch:3, train cost: 0.284791, val cost: 8.006878, train acc: 0.9017, val acc: 0.879500, lr: 0.000100\n",
            "Epoch:6, train cost: 0.194713, val cost: 7.039862, train acc: 0.9352, val acc: 0.899500, lr: 0.000100\n",
            "Epoch:9, train cost: 0.137156, val cost: 7.592854, train acc: 0.9552, val acc: 0.896750, lr: 0.000100\n"
          ]
        }
      ],
      "source": [
        "train(gru_model, optimiser=optimiser,  epochs=epochs)"
      ]
    },
    {
      "cell_type": "code",
      "execution_count": 20,
      "id": "7a3ef175",
      "metadata": {
        "id": "7a3ef175",
        "colab": {
          "base_uri": "https://localhost:8080/"
        },
        "outputId": "ad4f542e-06f5-4f35-d5b8-2d9cf32c5a91"
      },
      "outputs": [
        {
          "output_type": "stream",
          "name": "stdout",
          "text": [
            "0.8952631578947369\n"
          ]
        }
      ],
      "source": [
        "print(accuracy(gru_model, test_loader)[1])"
      ]
    },
    {
      "cell_type": "markdown",
      "source": [
        "### Inference with sample text"
      ],
      "metadata": {
        "id": "-4JltjIoLb6B"
      },
      "id": "-4JltjIoLb6B"
    },
    {
      "cell_type": "code",
      "execution_count": 21,
      "id": "ed30693d",
      "metadata": {
        "id": "ed30693d"
      },
      "outputs": [],
      "source": [
        "def sample_text(model, loader):\n",
        "  model.eval()  # Set the model to evaluation mode.\n",
        "\n",
        "  with torch.no_grad():\n",
        "    # Select a random sample from the test loader.\n",
        "    num = randint(0, len(loader.dataset) - 1)\n",
        "    label, text = loader.dataset[num]\n",
        "\n",
        "    # Tokenize and convert the text to tensor.\n",
        "    text_tensor = torch.tensor(vocab(tokeniser(text)), dtype=torch.long).unsqueeze(0)\n",
        "\n",
        "    # Make prediction using the model.\n",
        "    prediction = model(text_tensor.to(device))\n",
        "\n",
        "    # Get the predicted label.\n",
        "    predicted_label = torch.argmax(prediction).item()\n",
        "\n",
        "    print(f'Sample text: {text}')\n",
        "    print(f'Predicted label: {labels[predicted_label]}')\n",
        "    print(f'Real label: {labels[label - 1]}')"
      ]
    },
    {
      "cell_type": "code",
      "execution_count": 22,
      "id": "534f0220",
      "metadata": {
        "id": "534f0220",
        "colab": {
          "base_uri": "https://localhost:8080/"
        },
        "outputId": "285c8f82-2be6-4f46-c11c-4a39c7da6902"
      },
      "outputs": [
        {
          "output_type": "stream",
          "name": "stdout",
          "text": [
            "Sample text: 14 Nations to Participate in Plan to Reduce Methane Thirteen countries agreed yesterday to join a global plan proposed by the Bush administration to curb methane emissions by capturing the greenhouse gas and using it as an energy source before it is released into the atmosphere.\n",
            "Predicted label: World\n",
            "Real label: Sci/Tech\n"
          ]
        }
      ],
      "source": [
        "# Get a random sample text.\n",
        "sample_text(gru_model, test_loader)"
      ]
    },
    {
      "cell_type": "markdown",
      "source": [
        "### Model results visualization"
      ],
      "metadata": {
        "id": "KGOw6wVpLh3z"
      },
      "id": "KGOw6wVpLh3z"
    },
    {
      "cell_type": "code",
      "execution_count": 27,
      "id": "bb38e093",
      "metadata": {
        "id": "bb38e093"
      },
      "outputs": [],
      "source": [
        "def plot_confusion_matrix(model, loader):\n",
        "  model.eval() # Set the model to evaluation mode.\n",
        "\n",
        "  all_preds = []\n",
        "  all_labels = []\n",
        "\n",
        "  with torch.no_grad():\n",
        "    for data in loader:\n",
        "      inputs, labels_ = data[0].to(device), data[1].to(device)\n",
        "\n",
        "      # Obtain model predictions.\n",
        "      outputs = model(inputs)\n",
        "      _, preds = torch.max(outputs, 1)\n",
        "\n",
        "      all_preds.extend(preds.cpu().numpy())\n",
        "      all_labels.extend(labels_.cpu().numpy())\n",
        "\n",
        "  # Calculate confusion matrix using torchmetrics\n",
        "  cf = ConfusionMatrix(num_classes=len(labels), task='multiclass', normalize='all')\n",
        "  cm = cf(torch.tensor(all_preds), torch.tensor(all_labels))\n",
        "\n",
        "  # Plot the confusion matrix using seaborn\n",
        "  ax = heatmap(cm*4, annot=True, fmt='.2%', cmap='Blues',\n",
        "              xticklabels=labels, yticklabels=labels)\n",
        "  _ = ax.set_xlabel('Preds')\n",
        "  _ = ax.set_ylabel('Real')"
      ]
    },
    {
      "cell_type": "code",
      "execution_count": 28,
      "id": "7bc921f9",
      "metadata": {
        "id": "7bc921f9",
        "colab": {
          "base_uri": "https://localhost:8080/",
          "height": 449
        },
        "outputId": "389d316e-2e2b-428b-cd5e-a983827279dd"
      },
      "outputs": [
        {
          "output_type": "display_data",
          "data": {
            "text/plain": [
              "<Figure size 640x480 with 2 Axes>"
            ],
            "image/png": "[encoded data removed]"
          },
          "metadata": {}
        }
      ],
      "source": [
        "plot_confusion_matrix(gru_model, test_loader)"
      ]
    }
  ],
  "metadata": {
    "kernelspec": {
      "display_name": "Python 3",
      "name": "python3"
    },
    "language_info": {
      "codemirror_mode": {
        "name": "ipython",
        "version": 3
      },
      "file_extension": ".py",
      "mimetype": "text/x-python",
      "name": "python",
      "nbconvert_exporter": "python",
      "pygments_lexer": "ipython3",
      "version": "3.9.0"
    },
    "varInspector": {
      "cols": {
        "lenName": 16,
        "lenType": 16,
        "lenVar": 40
      },
      "kernels_config": {
        "python": {
          "delete_cmd_postfix": "",
          "delete_cmd_prefix": "del ",
          "library": "var_list.py",
          "varRefreshCmd": "print(var_dic_list())"
        },
        "r": {
          "delete_cmd_postfix": ") ",
          "delete_cmd_prefix": "rm(",
          "library": "var_list.r",
          "varRefreshCmd": "cat(var_dic_list()) "
        }
      },
      "types_to_exclude": [
        "module",
        "function",
        "builtin_function_or_method",
        "instance",
        "_Feature"
      ],
      "window_display": false
    },
    "colab": {
      "provenance": [],
      "gpuType": "T4"
    },
    "accelerator": "GPU"
  },
  "nbformat": 4,
  "nbformat_minor": 5
}