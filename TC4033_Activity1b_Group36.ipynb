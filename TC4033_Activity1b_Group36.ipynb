{
  "cells": [
    {
      "cell_type": "markdown",
      "metadata": {
        "id": "pPpKYZRwnjWR"
      },
      "source": [
        "# TC 5033\n",
        "## Deep Learning\n",
        "## Fully Connected Deep Neural Networks"
      ]
    },
    {
      "cell_type": "markdown",
      "metadata": {
        "id": "GPHkeKWmn84Z"
      },
      "source": [
        "# Students:\n",
        "\n",
        "*   Andre Nicolai Gutiérrez Bautista\n",
        "*   Fernando Guzmán Briones\n",
        "*   Julio Osvaldo Hernández Bucio\n",
        "*   Genaro Rodríguez Vázquez\n"
      ]
    },
    {
      "cell_type": "markdown",
      "metadata": {
        "id": "LOBXXWvJnv1w"
      },
      "source": [
        "#### Activity 1b: Implementing a Fully Connected Network for Kaggle ASL Dataset"
      ]
    },
    {
      "cell_type": "markdown",
      "metadata": {
        "id": "pPLFp950gYAk"
      },
      "source": [
        "\n",
        "\n",
        "- Objective\n",
        "\n",
        "The aim of this part of the activity is to apply your understanding of Fully Connected Networks by implementing a multilayer network for the [Kaggle ASL (American Sign Language) dataset](https://www.kaggle.com/datasets/grassknoted/asl-alphabet). While you have been provided with a complete solution for a Fully Connected Network using Numpy for the MNIST dataset, you are encouraged to try to come up with the solution.\n",
        "\n",
        "- Instructions\n",
        "\n",
        "    This activity requires submission in teams of 3 or 4 members. Submissions from smaller or larger teams will not be accepted unless prior approval has been granted (only due to exceptional circumstances). While teamwork is encouraged, each member is expected to contribute individually to the assignment. The final submission should feature the best arguments and solutions from each team member. Only one person per team needs to submit the completed work, but it is imperative that the names of all team members are listed in a Markdown cell at the very beginning of the notebook (either the first or second cell). Failure to include all team member names will result in the grade being awarded solely to the individual who submitted the assignment, with zero points given to other team members (no exceptions will be made to this rule).\n",
        "\n",
        "    Load and Preprocess Data: You are provided a starter code to load the data. Be sure to understand the code.\n",
        "\n",
        "    Review MNIST Notebook (Optional): Before diving into this activity, you have the option to revisit the MNIST example to refresh your understanding of how to build a Fully Connected Network using Numpy.\n",
        "\n",
        "    Start Fresh: Although you can refer to the MNIST solution at any point, try to implement the network for the ASL dataset on your own. This will reinforce your learning and understanding of the architecture and mathematics involved.\n",
        "\n",
        "    Implement Forward and Backward Pass: Write the code to perform the forward and backward passes, keeping in mind the specific challenges and characteristics of the ASL dataset.\n",
        "    \n",
        "     Design the Network: Create the architecture of the Fully Connected Network tailored for the ASL dataset. Choose the number of hidden layers, neurons, and hyperparameters judiciously.\n",
        "\n",
        "    Train the Model: Execute the training loop, ensuring to track performance metrics such as loss and accuracy.\n",
        "\n",
        "    Analyze and Document: Use Markdown cells to document in detail the choices you made in terms of architecture and hyperparameters, you may use figures, equations, etc to aid in your explanations. Include any metrics that help justify these choices and discuss the model's performance.  \n",
        "\n",
        "- Evaluation Criteria\n",
        "\n",
        "    - Code Readability and Comments\n",
        "    - Appropriateness of chosen architecture and hyperparameters for the ASL dataset\n",
        "    - Performance of the model on the ASL dataset (at least 70% acc)\n",
        "    - Quality of Markdown documentation\n",
        "\n",
        "- Submission\n",
        "\n",
        "Submit this Jupyter Notebook in canvas with your complete solution, ensuring your code is well-commented and includes Markdown cells that explain your design choices, results, and any challenges you encountered.\n"
      ]
    },
    {
      "cell_type": "markdown",
      "metadata": {
        "id": "prZUpdgGn1Zd"
      },
      "source": [
        "# Import required librearies"
      ]
    },
    {
      "cell_type": "code",
      "execution_count": 1,
      "metadata": {
        "id": "HdDxkgFxgYAq"
      },
      "outputs": [],
      "source": [
        "import numpy as np\n",
        "import string\n",
        "import pandas as pd\n",
        "import matplotlib.pyplot as plt\n",
        "import cv2 as cv\n",
        "import os\n",
        "#from google.colab import drive # To get files from google drive\n",
        "\n",
        "\n",
        "%load_ext autoreload\n",
        "%autoreload 2\n",
        "%matplotlib inline\n"
      ]
    },
    {
      "cell_type": "markdown",
      "metadata": {
        "id": "7z1VjvuoY9Ba"
      },
      "source": [
        "## Obtain the data from csv files"
      ]
    },
    {
      "cell_type": "markdown",
      "metadata": {
        "id": "oO-wFswiZHid"
      },
      "source": [
        "The following methods were created to avoid issues depending on if team was working on Google Collab or locally."
      ]
    },
    {
      "cell_type": "code",
      "execution_count": 2,
      "metadata": {
        "id": "Dl9EM31NU5NO"
      },
      "outputs": [],
      "source": [
        "def mount_folder(parent_folder, path, from_google_drive):\n",
        "  \"\"\"\n",
        "    Mounts a folder (Google Drive or local) and changes the current working directory.\n",
        "\n",
        "    Args:\n",
        "        path (str): The path to the folder to be mounted or used.\n",
        "        parent_folder (str): The parent folder where 'path' should be mounted or appended.\n",
        "        from_google_drive (bool): Indicates whether the data is from Google Drive (True) or local (False).\n",
        "\n",
        "    Returns:\n",
        "        None\n",
        "  \"\"\"\n",
        "  if from_google_drive:\n",
        "    drive.mount(parent_folder)\n",
        "    DIR = path\n",
        "  else:\n",
        "    DIR = parent_folder + path\n",
        "  os.chdir(DIR)\n",
        "\n",
        "def get_dataframe(file_name):\n",
        "  \"\"\"\n",
        "    Reads a CSV file and returns its data as a Pandas DataFrame.\n",
        "\n",
        "    Args:\n",
        "        file_name (str): The name or path of the CSV file to be read.\n",
        "\n",
        "    Returns:\n",
        "        A Pandas DataFrame containing the data from the CSV file.\n",
        "  \"\"\"\n",
        "  return pd.read_csv(file_name)"
      ]
    },
    {
      "cell_type": "code",
      "execution_count": 3,
      "metadata": {
        "colab": {
          "base_uri": "https://localhost:8080/"
        },
        "id": "XgOEjlsQX7gW",
        "outputId": "32483267-1d8c-46b1-9a20-64e7bd978795"
      },
      "outputs": [],
      "source": [
        "#Google collab version\n",
        "#path = \"/content/drive/MyDrive/Colab Notebooks/MNA/TC5033 - Advanced Machine Learning Methods/Semana 2/asl_data\" # Change for asl_data if you are running this locally\n",
        "#parent_folder = '/content/drive' # Change for ./ if you are running this locally\n",
        "#mount_folder(parent_folder, path, from_google_drive=True)\n",
        "\n",
        "#train_df = get_dataframe('sign_mnist_train.csv')\n",
        "#valid_df = get_dataframe('sign_mnist_valid.csv')"
      ]
    },
    {
      "cell_type": "code",
      "execution_count": 4,
      "metadata": {},
      "outputs": [],
      "source": [
        "#Local version\n",
        "DATA_PATH = './asl_data'\n",
        "train_df = pd.read_csv(os.path.join(DATA_PATH, 'sign_mnist_train.csv'))\n",
        "valid_df = pd.read_csv(os.path.join(DATA_PATH, 'sign_mnist_valid.csv'))"
      ]
    },
    {
      "cell_type": "code",
      "execution_count": 5,
      "metadata": {
        "colab": {
          "base_uri": "https://localhost:8080/",
          "height": 253
        },
        "id": "cr-hOJndgYAs",
        "outputId": "dd00ba0d-8088-4a95-f28d-45b9506d76b9"
      },
      "outputs": [
        {
          "data": {
            "text/html": [
              "<div>\n",
              "<style scoped>\n",
              "    .dataframe tbody tr th:only-of-type {\n",
              "        vertical-align: middle;\n",
              "    }\n",
              "\n",
              "    .dataframe tbody tr th {\n",
              "        vertical-align: top;\n",
              "    }\n",
              "\n",
              "    .dataframe thead th {\n",
              "        text-align: right;\n",
              "    }\n",
              "</style>\n",
              "<table border=\"1\" class=\"dataframe\">\n",
              "  <thead>\n",
              "    <tr style=\"text-align: right;\">\n",
              "      <th></th>\n",
              "      <th>label</th>\n",
              "      <th>pixel1</th>\n",
              "      <th>pixel2</th>\n",
              "      <th>pixel3</th>\n",
              "      <th>pixel4</th>\n",
              "      <th>pixel5</th>\n",
              "      <th>pixel6</th>\n",
              "      <th>pixel7</th>\n",
              "      <th>pixel8</th>\n",
              "      <th>pixel9</th>\n",
              "      <th>...</th>\n",
              "      <th>pixel775</th>\n",
              "      <th>pixel776</th>\n",
              "      <th>pixel777</th>\n",
              "      <th>pixel778</th>\n",
              "      <th>pixel779</th>\n",
              "      <th>pixel780</th>\n",
              "      <th>pixel781</th>\n",
              "      <th>pixel782</th>\n",
              "      <th>pixel783</th>\n",
              "      <th>pixel784</th>\n",
              "    </tr>\n",
              "  </thead>\n",
              "  <tbody>\n",
              "    <tr>\n",
              "      <th>0</th>\n",
              "      <td>3</td>\n",
              "      <td>107</td>\n",
              "      <td>118</td>\n",
              "      <td>127</td>\n",
              "      <td>134</td>\n",
              "      <td>139</td>\n",
              "      <td>143</td>\n",
              "      <td>146</td>\n",
              "      <td>150</td>\n",
              "      <td>153</td>\n",
              "      <td>...</td>\n",
              "      <td>207</td>\n",
              "      <td>207</td>\n",
              "      <td>207</td>\n",
              "      <td>207</td>\n",
              "      <td>206</td>\n",
              "      <td>206</td>\n",
              "      <td>206</td>\n",
              "      <td>204</td>\n",
              "      <td>203</td>\n",
              "      <td>202</td>\n",
              "    </tr>\n",
              "    <tr>\n",
              "      <th>1</th>\n",
              "      <td>6</td>\n",
              "      <td>155</td>\n",
              "      <td>157</td>\n",
              "      <td>156</td>\n",
              "      <td>156</td>\n",
              "      <td>156</td>\n",
              "      <td>157</td>\n",
              "      <td>156</td>\n",
              "      <td>158</td>\n",
              "      <td>158</td>\n",
              "      <td>...</td>\n",
              "      <td>69</td>\n",
              "      <td>149</td>\n",
              "      <td>128</td>\n",
              "      <td>87</td>\n",
              "      <td>94</td>\n",
              "      <td>163</td>\n",
              "      <td>175</td>\n",
              "      <td>103</td>\n",
              "      <td>135</td>\n",
              "      <td>149</td>\n",
              "    </tr>\n",
              "    <tr>\n",
              "      <th>2</th>\n",
              "      <td>2</td>\n",
              "      <td>187</td>\n",
              "      <td>188</td>\n",
              "      <td>188</td>\n",
              "      <td>187</td>\n",
              "      <td>187</td>\n",
              "      <td>186</td>\n",
              "      <td>187</td>\n",
              "      <td>188</td>\n",
              "      <td>187</td>\n",
              "      <td>...</td>\n",
              "      <td>202</td>\n",
              "      <td>201</td>\n",
              "      <td>200</td>\n",
              "      <td>199</td>\n",
              "      <td>198</td>\n",
              "      <td>199</td>\n",
              "      <td>198</td>\n",
              "      <td>195</td>\n",
              "      <td>194</td>\n",
              "      <td>195</td>\n",
              "    </tr>\n",
              "    <tr>\n",
              "      <th>3</th>\n",
              "      <td>2</td>\n",
              "      <td>211</td>\n",
              "      <td>211</td>\n",
              "      <td>212</td>\n",
              "      <td>212</td>\n",
              "      <td>211</td>\n",
              "      <td>210</td>\n",
              "      <td>211</td>\n",
              "      <td>210</td>\n",
              "      <td>210</td>\n",
              "      <td>...</td>\n",
              "      <td>235</td>\n",
              "      <td>234</td>\n",
              "      <td>233</td>\n",
              "      <td>231</td>\n",
              "      <td>230</td>\n",
              "      <td>226</td>\n",
              "      <td>225</td>\n",
              "      <td>222</td>\n",
              "      <td>229</td>\n",
              "      <td>163</td>\n",
              "    </tr>\n",
              "    <tr>\n",
              "      <th>4</th>\n",
              "      <td>12</td>\n",
              "      <td>164</td>\n",
              "      <td>167</td>\n",
              "      <td>170</td>\n",
              "      <td>172</td>\n",
              "      <td>176</td>\n",
              "      <td>179</td>\n",
              "      <td>180</td>\n",
              "      <td>184</td>\n",
              "      <td>185</td>\n",
              "      <td>...</td>\n",
              "      <td>92</td>\n",
              "      <td>105</td>\n",
              "      <td>105</td>\n",
              "      <td>108</td>\n",
              "      <td>133</td>\n",
              "      <td>163</td>\n",
              "      <td>157</td>\n",
              "      <td>163</td>\n",
              "      <td>164</td>\n",
              "      <td>179</td>\n",
              "    </tr>\n",
              "  </tbody>\n",
              "</table>\n",
              "<p>5 rows × 785 columns</p>\n",
              "</div>"
            ],
            "text/plain": [
              "   label  pixel1  pixel2  pixel3  pixel4  pixel5  pixel6  pixel7  pixel8  \\\n",
              "0      3     107     118     127     134     139     143     146     150   \n",
              "1      6     155     157     156     156     156     157     156     158   \n",
              "2      2     187     188     188     187     187     186     187     188   \n",
              "3      2     211     211     212     212     211     210     211     210   \n",
              "4     12     164     167     170     172     176     179     180     184   \n",
              "\n",
              "   pixel9  ...  pixel775  pixel776  pixel777  pixel778  pixel779  pixel780  \\\n",
              "0     153  ...       207       207       207       207       206       206   \n",
              "1     158  ...        69       149       128        87        94       163   \n",
              "2     187  ...       202       201       200       199       198       199   \n",
              "3     210  ...       235       234       233       231       230       226   \n",
              "4     185  ...        92       105       105       108       133       163   \n",
              "\n",
              "   pixel781  pixel782  pixel783  pixel784  \n",
              "0       206       204       203       202  \n",
              "1       175       103       135       149  \n",
              "2       198       195       194       195  \n",
              "3       225       222       229       163  \n",
              "4       157       163       164       179  \n",
              "\n",
              "[5 rows x 785 columns]"
            ]
          },
          "execution_count": 5,
          "metadata": {},
          "output_type": "execute_result"
        }
      ],
      "source": [
        "train_df.head()"
      ]
    },
    {
      "cell_type": "markdown",
      "metadata": {
        "id": "iYEo_atVaNaU"
      },
      "source": [
        "\n",
        "### Print how many classes do we have on our collection (To use it on CNN output)"
      ]
    },
    {
      "cell_type": "code",
      "execution_count": 6,
      "metadata": {
        "colab": {
          "base_uri": "https://localhost:8080/"
        },
        "id": "mm9i5VaKaLIb",
        "outputId": "3625e94a-e56e-44d1-bbf6-0d16b3564712"
      },
      "outputs": [
        {
          "name": "stdout",
          "output_type": "stream",
          "text": [
            "[ 3  6  2 12 15  8 21 17  9 19 16 18 20 22 23  1 11 10 14  4  0  5  7 13]\n",
            "24\n"
          ]
        }
      ],
      "source": [
        "print(train_df[\"label\"].unique())\n",
        "print(len(train_df[\"label\"].unique()))"
      ]
    },
    {
      "cell_type": "markdown",
      "metadata": {
        "id": "ctp3P1gegYAs"
      },
      "source": [
        "## Import Images"
      ]
    },
    {
      "cell_type": "code",
      "execution_count": 7,
      "metadata": {
        "id": "qOLohsq_a7qa"
      },
      "outputs": [],
      "source": [
        "y_train = np.array(train_df['label'])\n",
        "y_val = np.array(valid_df['label'])\n",
        "\n",
        "# Deleting output label ('label')(Column to predict)\n",
        "train_df = train_df.drop('label', axis=1)\n",
        "valid_df = valid_df.drop('label', axis=1)\n",
        "\n",
        "# Convertion to float shouldn't ocurr here but latter into the Normalisation phase\n",
        "x_train = train_df.values\n",
        "x_val = valid_df.values"
      ]
    },
    {
      "cell_type": "markdown",
      "metadata": {
        "id": "E8-WADrEe51z"
      },
      "source": [
        "Check for the shape of the dataframes"
      ]
    },
    {
      "cell_type": "code",
      "execution_count": 8,
      "metadata": {
        "id": "qcpa2oXvbJ5X"
      },
      "outputs": [],
      "source": [
        "def print_df_shape(*dataframes):\n",
        "  \"\"\"\n",
        "    Prints the shape of each desired DataFrame along with its name.\n",
        "\n",
        "    Args:\n",
        "        *dataframes (pd.DataFrame): Variable arguments to print its shape.\n",
        "  \"\"\"\n",
        "  for dataframe in dataframes:\n",
        "    for var_name, var in globals().items():\n",
        "      if var is dataframe:\n",
        "        print(f\"Shape of {var_name} dataset is: {dataframe.shape}\")"
      ]
    },
    {
      "cell_type": "code",
      "execution_count": 9,
      "metadata": {
        "colab": {
          "base_uri": "https://localhost:8080/"
        },
        "id": "Gdl0ThwNc_XP",
        "outputId": "8fbbaf92-cb94-4bca-c265-61f5045789ee"
      },
      "outputs": [
        {
          "name": "stdout",
          "output_type": "stream",
          "text": [
            "Shape of x_train dataset is: (27455, 784)\n",
            "Shape of x_val dataset is: (7172, 784)\n",
            "Shape of y_train dataset is: (27455,)\n",
            "Shape of y_val dataset is: (7172,)\n"
          ]
        }
      ],
      "source": [
        "print_df_shape(x_train, x_val, y_train, y_val)"
      ]
    },
    {
      "cell_type": "markdown",
      "metadata": {
        "id": "oqvB7DiOfksh"
      },
      "source": [
        "Now, we split \"validation\" into 'validation' and 'test' datasets to avoid memory leakage"
      ]
    },
    {
      "cell_type": "code",
      "execution_count": 10,
      "metadata": {
        "code_folding": [],
        "id": "O7eEFoQmgYAt"
      },
      "outputs": [],
      "source": [
        "def split_val_test(x, y, pct=0.3, shuffle=True):\n",
        "\n",
        "    \"\"\"\n",
        "\n",
        "    Splits the input features 'x' and labels 'y' into validation and test subsets.\n",
        "\n",
        "    Parameters:\n",
        "    - x: Input features (numpy array or list)\n",
        "    - y: Labels (numpy array or list)\n",
        "    - pct: Percentage of data to allocate for the validation set (float between 0 and 1)\n",
        "    - shuffle: Whether to shuffle the data before splitting (default is True)\n",
        "\n",
        "    Returns:\n",
        "    - x_validation: Features of the validation set.\n",
        "    - y_validation: Labels of the validation set.\n",
        "    - x_test: Features of the test set.\n",
        "    - y_test: Labels of the test set.\n",
        "\n",
        "    \"\"\"\n",
        "\n",
        "    # Check if the percentage is within the valid range\n",
        "    if not 0 <= pct <= 1:\n",
        "        raise ValueError(\"Percentage 'pct' should be between 0 and 1.\")\n",
        "\n",
        "    # Determine the number of samples for the validation set\n",
        "    num_samples = len(x)\n",
        "    num_validation_samples = int(num_samples * pct)\n",
        "\n",
        "    # Create an index array for shuffling if needed\n",
        "    if shuffle:\n",
        "        indices = np.arange(num_samples)\n",
        "        np.random.shuffle(indices)\n",
        "    else:\n",
        "        indices = np.arange(num_samples)\n",
        "\n",
        "    # Split the data based on the shuffled indices\n",
        "    validation_indices = indices[:num_validation_samples]\n",
        "    test_indices = indices[num_validation_samples:]\n",
        "\n",
        "    # Create the validation and test subsets\n",
        "    x_validation, y_validation = x[validation_indices], y[validation_indices]\n",
        "    x_test, y_test = x[test_indices], y[test_indices]\n",
        "\n",
        "    return x_validation, y_validation, x_test, y_test"
      ]
    },
    {
      "cell_type": "code",
      "execution_count": 11,
      "metadata": {
        "colab": {
          "base_uri": "https://localhost:8080/"
        },
        "id": "7WbtqgfugYAt",
        "outputId": "2c282e7e-57ad-454a-8595-6996400ff487"
      },
      "outputs": [
        {
          "name": "stdout",
          "output_type": "stream",
          "text": [
            "Shape of x_val dataset is: (2151, 784)\n",
            "Shape of x_test dataset is: (5021, 784)\n",
            "Shape of y_val dataset is: (2151,)\n",
            "Shape of y_test dataset is: (5021,)\n"
          ]
        }
      ],
      "source": [
        "x_val, y_val, x_test, y_test = split_val_test(x_val, y_val)\n",
        "print_df_shape(x_val, x_test, y_val, y_test)"
      ]
    },
    {
      "cell_type": "markdown",
      "metadata": {
        "id": "IybbXLl2geF0"
      },
      "source": [
        "\n",
        "\n",
        "\n",
        "---\n",
        "\n",
        "\n",
        "At this point, we can infer:\n",
        "\n",
        "    27455 images belong to train dataset\n",
        "    5021 images belong to validation dataset\n",
        "    2151 images belong to test dataset\n",
        "\n",
        "    784 pixels -> 1 image (1 row on csv)\n",
        "\n",
        "\n",
        "---\n",
        "\n"
      ]
    },
    {
      "cell_type": "code",
      "execution_count": 12,
      "metadata": {
        "colab": {
          "base_uri": "https://localhost:8080/"
        },
        "id": "sk85r2bXgYAu",
        "outputId": "eddc19cb-7c27-4e68-a0fe-e03c0f70d2c7"
      },
      "outputs": [
        {
          "name": "stdout",
          "output_type": "stream",
          "text": [
            "Number of possible letters to predict:  24\n",
            "Possible letters to predict:  ['a', 'b', 'c', 'd', 'e', 'f', 'g', 'h', 'i', 'k', 'l', 'm', 'n', 'o', 'p', 'q', 'r', 's', 't', 'u', 'v', 'w', 'x', 'y']\n"
          ]
        }
      ],
      "source": [
        "# Remove undesired letters to predict\n",
        "alphabet=list(string.ascii_lowercase)\n",
        "alphabet.remove('j')\n",
        "alphabet.remove('z')\n",
        "\n",
        "# Print possible letters to predict\n",
        "print('Number of possible letters to predict: ', len(alphabet))\n",
        "print('Possible letters to predict: ', alphabet)"
      ]
    },
    {
      "cell_type": "markdown",
      "metadata": {
        "id": "E6ij969BgYAu"
      },
      "source": [
        "## Normalise"
      ]
    },
    {
      "cell_type": "code",
      "execution_count": 13,
      "metadata": {
        "id": "vzivrBwltDjN"
      },
      "outputs": [],
      "source": [
        "# Get the x_mean and the x_std first\n",
        "x_mean = x_train.mean()\n",
        "x_std = x_train.std()"
      ]
    },
    {
      "cell_type": "code",
      "execution_count": 14,
      "metadata": {
        "id": "oLgHellZtVSZ"
      },
      "outputs": [],
      "source": [
        "def normalise(x_mean, x_std, x_data):\n",
        "  \"\"\"\n",
        "    Normalizes a dataset by subtracting the mean and dividing by the standard deviation.\n",
        "\n",
        "    Args:\n",
        "        x_mean (float): The mean value used for normalization.\n",
        "        x_std (float): The standard deviation used for normalization.\n",
        "        x_data (dataframe): The data to be normalized.\n",
        "\n",
        "    Returns:\n",
        "        The normalized data.\n",
        "  \"\"\"\n",
        "  return (x_data - x_mean) / x_std"
      ]
    },
    {
      "cell_type": "code",
      "execution_count": 15,
      "metadata": {
        "id": "Ath-kEM-teBu"
      },
      "outputs": [],
      "source": [
        "# Normalise the train, validation and test data\n",
        "x_train = normalise(x_mean, x_std, x_train)\n",
        "x_val = normalise(x_mean, x_std, x_val)\n",
        "x_test = normalise(x_mean, x_std, x_test)"
      ]
    },
    {
      "cell_type": "markdown",
      "metadata": {
        "id": "NEjVVYz6gYAu"
      },
      "source": [
        "## Graficar muestras"
      ]
    },
    {
      "cell_type": "code",
      "execution_count": 16,
      "metadata": {
        "id": "jqV3TTustuNu"
      },
      "outputs": [],
      "source": [
        "def plot_number(image):\n",
        "  \"\"\"\n",
        "    Plots and displays a grayscale image.\n",
        "\n",
        "    Args:\n",
        "        image (np.ndarray): The grayscale image to be plotted.\n",
        "  \"\"\"\n",
        "  plt.figure(figsize=(5,5))\n",
        "  plt.imshow(image.squeeze(), cmap=plt.get_cmap('gray'))\n",
        "  plt.axis('off')\n",
        "  plt.show()"
      ]
    },
    {
      "cell_type": "code",
      "execution_count": 17,
      "metadata": {
        "colab": {
          "base_uri": "https://localhost:8080/",
          "height": 439
        },
        "id": "uSJT8yd57lVB",
        "outputId": "dff3b435-cef6-4cdd-cab4-5dbf27b9a2c7"
      },
      "outputs": [
        {
          "name": "stdout",
          "output_type": "stream",
          "text": [
            "This is how a random selected array from dataset, converted to 28*28 image looks like\n"
          ]
        },
        {
          "data": {
            "image/png": "[encoded data removed]",
            "text/plain": [
              "<Figure size 500x500 with 1 Axes>"
            ]
          },
          "metadata": {},
          "output_type": "display_data"
        }
      ],
      "source": [
        "# Generates a random integer\n",
        "rnd_idx = np.random.randint(len(y_test))\n",
        "\n",
        "# Reshape array form 784*1 1D np.array   -->   28*28 2D np.array\n",
        "# to make it possible to be plot as greyscale image\n",
        "print(\"This is how a random selected array from dataset, converted to 28*28 image looks like\")\n",
        "plot_number(x_train[rnd_idx].reshape(28,28))"
      ]
    },
    {
      "cell_type": "markdown",
      "metadata": {
        "id": "Aan-g5wAgYAu"
      },
      "source": [
        "### Ecuaciones para nuestro modelo\n",
        "\n",
        "\n",
        "$$z^1 = W^1 X + b^1$$\n",
        "\n",
        "$$a^1 = ReLU(z^1) $$\n",
        "\n",
        "$$z^2 = W^2 a^1 + b^2$$\n",
        "\n",
        "$$\\hat{y} = \\frac{e^{z^{2_k}}}{\\sum_j{e^{z_j}}}$$\n",
        "\n",
        "\n",
        "$$ \\mathcal{L}(\\hat{y}^{i}, y^{i}) =  - y^{i}  \\ln(\\hat{y}^{i}) = -\\ln(\\hat{y}^i)$$\n",
        "\n",
        "\n",
        "$$ \\mathcal{J}(w, b) =  \\frac{1}{num\\_samples} \\sum_{i=1}^{num\\_samples}-\\ln(\\hat{y}^{i})$$"
      ]
    },
    {
      "cell_type": "markdown",
      "metadata": {
        "id": "hDH6VhGtgYAv"
      },
      "source": [
        "### Funciones adicionales"
      ]
    },
    {
      "cell_type": "markdown",
      "metadata": {
        "id": "3EJrD6KKgYAv"
      },
      "source": [
        "#### Mini batches"
      ]
    },
    {
      "cell_type": "code",
      "execution_count": 18,
      "metadata": {
        "id": "eillimQsgYAv"
      },
      "outputs": [],
      "source": [
        "def create_minibatches(mb_size, x, y, shuffle = True):\n",
        "    '''\n",
        "    x  #muestras, 784\n",
        "    y #muestras, 1\n",
        "    '''\n",
        "    assert x.shape[0] == y.shape[0], 'Error en cantidad de muestras'\n",
        "    total_data = x.shape[0]\n",
        "    if shuffle:\n",
        "        idxs = np.arange(total_data)\n",
        "        np.random.shuffle(idxs)\n",
        "        x = x[idxs]\n",
        "        y = y[idxs]\n",
        "    return ((x[i:i+mb_size], y[i:i+mb_size]) for i in range(0, total_data, mb_size))"
      ]
    },
    {
      "cell_type": "code",
      "execution_count": 19,
      "metadata": {
        "colab": {
          "base_uri": "https://localhost:8080/"
        },
        "id": "X-u-R447gYAv",
        "outputId": "a478bcc5-1ad0-4e5b-9b80-1203d4ee02f8"
      },
      "outputs": [
        {
          "data": {
            "text/plain": [
              "<function __main__.create_minibatches(mb_size, x, y, shuffle=True)>"
            ]
          },
          "execution_count": 19,
          "metadata": {},
          "output_type": "execute_result"
        }
      ],
      "source": [
        "create_minibatches"
      ]
    },
    {
      "cell_type": "markdown",
      "metadata": {
        "id": "v8nKD8XugYAw"
      },
      "source": [
        "## Nuestra clase Linear, ReLU y Sequential"
      ]
    },
    {
      "cell_type": "markdown",
      "metadata": {
        "id": "dC71mGzxgYAw"
      },
      "source": [
        "###  Clase Linear"
      ]
    },
    {
      "cell_type": "code",
      "execution_count": 20,
      "metadata": {
        "id": "eyUwafUsSyM1"
      },
      "outputs": [],
      "source": [
        "class np_tensor(np.ndarray): pass"
      ]
    },
    {
      "cell_type": "code",
      "execution_count": 21,
      "metadata": {
        "id": "XJELaCxqS78C"
      },
      "outputs": [],
      "source": [
        "class Linear():\n",
        "    def __init__(self, input_size, output_size):\n",
        "        '''\n",
        "        Init parameters utilizando Kaiming He\n",
        "        '''\n",
        "        self.W = (np.random.randn(output_size, input_size) / np.sqrt(input_size/2)).view(np_tensor)\n",
        "        self.b = (np.zeros((output_size, 1))).view(np_tensor)\n",
        "    def __call__(self, X): # esta el foward de la clase lineal\n",
        "        Z = self.W @ X + self.b\n",
        "        return Z\n",
        "    def backward(self, X, Z):\n",
        "        X.grad = self.W.T @ Z.grad\n",
        "        self.W.grad = Z.grad @ X.T\n",
        "        self.b.grad = np.sum(Z.grad, axis = 1, keepdims=True)"
      ]
    },
    {
      "cell_type": "markdown",
      "metadata": {
        "id": "tU2ctF_fgYAw"
      },
      "source": [
        "### Clase ReLU"
      ]
    },
    {
      "cell_type": "code",
      "execution_count": 22,
      "metadata": {
        "id": "P38cHhkwTETr"
      },
      "outputs": [],
      "source": [
        "class ReLU():\n",
        "    def __call__(self, Z):\n",
        "        return np.maximum(0, Z)\n",
        "    def backward(self, Z, A):\n",
        "        Z.grad = A.grad.copy()\n",
        "        Z.grad[Z <= 0] = 0"
      ]
    },
    {
      "cell_type": "markdown",
      "metadata": {
        "id": "tzcfGnoegYAw"
      },
      "source": [
        "### Clase Sequential"
      ]
    },
    {
      "cell_type": "code",
      "execution_count": 23,
      "metadata": {
        "id": "gLdn9QlOTGkP"
      },
      "outputs": [],
      "source": [
        "class Sequential_layers():\n",
        "    def __init__(self, layers):\n",
        "        '''\n",
        "        layers - lista que contiene objetos de tipo Linear, ReLU\n",
        "        '''\n",
        "        self.layers = layers\n",
        "        self.x = None\n",
        "        self.outputs = {}\n",
        "    def __call__(self, X):\n",
        "        self.x = X\n",
        "        self.outputs['l0'] = self.x\n",
        "        for i, layer in enumerate(self.layers, 1):\n",
        "            self.x = layer(self.x)\n",
        "            self.outputs['l'+str(i)]=self.x\n",
        "        return self.x\n",
        "    def backward(self):\n",
        "        for i in reversed(range(len(self.layers))):\n",
        "            self.layers[i].backward(self.outputs['l'+str(i)], self.outputs['l'+str(i+1)])\n",
        "    def update(self, learning_rate = 1e-3):\n",
        "        for layer in self.layers:\n",
        "            if isinstance(layer, ReLU): continue\n",
        "            layer.W = layer.W - learning_rate * layer.W.grad\n",
        "            layer.b = layer.b - learning_rate * layer.b.grad\n",
        "    def predict(self, X):\n",
        "        return np.argmax(self.__call__(X))"
      ]
    },
    {
      "cell_type": "markdown",
      "metadata": {
        "id": "g2OkR_uCgYAw"
      },
      "source": [
        "### Cost Function"
      ]
    },
    {
      "cell_type": "code",
      "execution_count": 24,
      "metadata": {
        "id": "M4ES2T6UTMJA"
      },
      "outputs": [],
      "source": [
        "def softmaxXEntropy(x, y):\n",
        "    batch_size = x.shape[1]\n",
        "    exp_scores = np.exp(x)\n",
        "    probs = exp_scores / exp_scores.sum(axis = 0)\n",
        "    preds = probs.copy()\n",
        "    # Costo\n",
        "    y_hat = probs[y.squeeze(), np.arange(batch_size)]\n",
        "    cost = np.sum(-np.log(y_hat)) / batch_size\n",
        "    # Calcular gradientes\n",
        "    probs[y.squeeze(), np.arange(batch_size)] -= 1 #dl/dx\n",
        "    x.grad = probs.copy()\n",
        "\n",
        "    return preds, cost"
      ]
    },
    {
      "cell_type": "markdown",
      "metadata": {
        "id": "xzerV7R8gYAx"
      },
      "source": [
        "## Loop de entrenamiento"
      ]
    },
    {
      "cell_type": "code",
      "execution_count": 25,
      "metadata": {
        "id": "sE4VZHL8TOcp"
      },
      "outputs": [],
      "source": [
        "def train(model, epochs, mb_size=128, learning_rate = 1e-3):\n",
        "    for epoch in range(epochs):\n",
        "        for i, (x, y) in enumerate(create_minibatches(mb_size, x_train, y_train)):\n",
        "            scores = model(x.T.view(np_tensor))\n",
        "            _, cost = softmaxXEntropy(scores, y)\n",
        "            model.backward()\n",
        "            model.update(learning_rate)\n",
        "        print(f'cost: {cost}, accuracy: {accuracy(x_val, y_val, mb_size)}')"
      ]
    },
    {
      "cell_type": "code",
      "execution_count": 26,
      "metadata": {
        "id": "PNd-JyIXgYAx"
      },
      "outputs": [],
      "source": [
        "def accuracy(x, y, mb_size):\n",
        "    correct = 0\n",
        "    total = 0\n",
        "    for i, (x, y) in enumerate(create_minibatches(mb_size, x, y)):\n",
        "        pred = model(x.T.view(np_tensor))\n",
        "        correct += np.sum(np.argmax(pred, axis=0) == y.squeeze())\n",
        "        total += pred.shape[1]\n",
        "    return correct/total\n"
      ]
    },
    {
      "cell_type": "code",
      "execution_count": 27,
      "metadata": {
        "id": "IINLgEp0Tl22"
      },
      "outputs": [],
      "source": [
        "# We need to change the output classes according to possible predictions (in this case 24 possible classes found on train_df)\n",
        "\n",
        "# 1st hidden layer\n",
        "# Linear(784, 200) --> 784 inputs / 200 outputs\n",
        "# ReLU() Activation type\n",
        "\n",
        "# 2nd hidden layer --> 200 inputs / 200 outputs. The inputs are the outputs of the first hidden layer\n",
        "# Linear(200, 200)\n",
        "# ReLU() Activation type\n",
        "\n",
        "# Classification layer  --> 200 inputs / 24 classes to predict\n",
        "# Linear(200,24)\n",
        "\n",
        "model = Sequential_layers([Linear(784, 32), ReLU(),\n",
        "                            Linear(32, 64), ReLU(),\n",
        "                            Linear(64, 128), ReLU(),\n",
        "                            Linear(128,24)])\n",
        "\n",
        "# mini batch size is mainly limited by the hardware we use for the training (OOM error will ocurr when exceeding)\n",
        "# The smaller the batch size, the slower it takes to train\n",
        "# Not necesarily the bigger the value, the better the accuracy\n",
        "# Normally we use multiple of bytes (8, 32, 64, 128, 256, etc...)\n",
        "mb_size = 256\n",
        "\n",
        "# The smaller the learning rate is, the slower it takes to train\n",
        "# Using a BIG learning rate is prompt to overfit\n",
        "learning_rate = 0.0001\n",
        "\n",
        "#50 epochs were needed to reach a decent level of accuracy using this fully connected network\n",
        "epochs = 50"
      ]
    },
    {
      "cell_type": "markdown",
      "metadata": {
        "id": "pn9N7oC9gYAx"
      },
      "source": [
        "## Create your model and train it"
      ]
    },
    {
      "cell_type": "code",
      "execution_count": 28,
      "metadata": {
        "colab": {
          "base_uri": "https://localhost:8080/"
        },
        "id": "oKzJPEX0Tybz",
        "outputId": "5c686589-4da7-4671-9dad-6bdc709b818d"
      },
      "outputs": [
        {
          "name": "stdout",
          "output_type": "stream",
          "text": [
            "cost: 1.5227825077457, accuracy: 0.43654114365411434\n",
            "cost: 0.5917584629835463, accuracy: 0.5774058577405857\n",
            "cost: 0.5085046121241493, accuracy: 0.6638772663877266\n",
            "cost: 0.2813938508770091, accuracy: 0.6875871687587168\n",
            "cost: 0.24318328313521753, accuracy: 0.702928870292887\n",
            "cost: 0.1565413846522537, accuracy: 0.7224546722454672\n",
            "cost: 0.13614376409909343, accuracy: 0.7136215713621571\n",
            "cost: 0.07785700648314803, accuracy: 0.7140864714086471\n",
            "cost: 0.04096336643577466, accuracy: 0.7243142724314272\n",
            "cost: 0.039944841499992535, accuracy: 0.7205950720595072\n",
            "cost: 0.052884236384030066, accuracy: 0.7247791724779172\n",
            "cost: 0.023747149953921957, accuracy: 0.7261738726173873\n",
            "cost: 0.029670893333863902, accuracy: 0.7252440725244073\n",
            "cost: 0.024723483130782355, accuracy: 0.7322175732217573\n",
            "cost: 0.03323501244790993, accuracy: 0.7275685727568573\n",
            "cost: 0.015698659649366408, accuracy: 0.7317526731752673\n",
            "cost: 0.01761292671194617, accuracy: 0.7340771734077174\n",
            "cost: 0.016417362073725274, accuracy: 0.7345420734542073\n",
            "cost: 0.02034844149649455, accuracy: 0.7336122733612274\n",
            "cost: 0.014302176293214851, accuracy: 0.7354718735471873\n",
            "cost: 0.008776340439723298, accuracy: 0.7373314737331473\n",
            "cost: 0.008540423773035122, accuracy: 0.7405857740585774\n",
            "cost: 0.006144582558381242, accuracy: 0.7326824732682473\n",
            "cost: 0.009605605689401327, accuracy: 0.7438400743840075\n",
            "cost: 0.009455079483599811, accuracy: 0.7429102742910274\n",
            "cost: 0.010374189345197828, accuracy: 0.7447698744769874\n",
            "cost: 0.006792186338449481, accuracy: 0.7475592747559274\n",
            "cost: 0.007128466251882656, accuracy: 0.7443049744304975\n",
            "cost: 0.004784667926838976, accuracy: 0.7456996745699674\n",
            "cost: 0.005303805552588448, accuracy: 0.7480241748024175\n",
            "cost: 0.006336809943859455, accuracy: 0.7498837749883775\n",
            "cost: 0.006176642253209531, accuracy: 0.7475592747559274\n",
            "cost: 0.0051566219531024755, accuracy: 0.7484890748489075\n",
            "cost: 0.0053871117606244, accuracy: 0.7484890748489075\n",
            "cost: 0.004360538736228024, accuracy: 0.7489539748953975\n",
            "cost: 0.004859769853939531, accuracy: 0.7484890748489075\n",
            "cost: 0.0035092434017134585, accuracy: 0.7489539748953975\n",
            "cost: 0.00513188943271407, accuracy: 0.7484890748489075\n",
            "cost: 0.003871004706037152, accuracy: 0.7508135750813575\n",
            "cost: 0.0037871853249460603, accuracy: 0.7512784751278475\n",
            "cost: 0.004039672076462565, accuracy: 0.7503486750348675\n",
            "cost: 0.0035492074211743566, accuracy: 0.7512784751278475\n",
            "cost: 0.004339160301484556, accuracy: 0.7498837749883775\n",
            "cost: 0.0053352133541350625, accuracy: 0.7526731752673175\n",
            "cost: 0.0022146760586350582, accuracy: 0.7522082752208276\n",
            "cost: 0.0026299585381457584, accuracy: 0.7522082752208276\n",
            "cost: 0.0034624574690023113, accuracy: 0.7526731752673175\n",
            "cost: 0.002005873818305604, accuracy: 0.7517433751743375\n",
            "cost: 0.004482515429350494, accuracy: 0.7512784751278475\n",
            "cost: 0.002633521117652699, accuracy: 0.7540678754067875\n"
          ]
        }
      ],
      "source": [
        "train(model, epochs, mb_size, learning_rate)"
      ]
    },
    {
      "cell_type": "code",
      "execution_count": 29,
      "metadata": {
        "colab": {
          "base_uri": "https://localhost:8080/"
        },
        "id": "8fRXxvPNUb6-",
        "outputId": "a2d2b828-59b2-4386-ade1-bd9363143154"
      },
      "outputs": [
        {
          "name": "stdout",
          "output_type": "stream",
          "text": [
            "Accuracy reached:  74.28799044015136 %\n"
          ]
        }
      ],
      "source": [
        "# Get the accuracy reached\n",
        "print(\"Accuracy reached: \", (accuracy(x_test, y_test, mb_size))*100, '%')"
      ]
    },
    {
      "cell_type": "markdown",
      "metadata": {
        "id": "Cv1Es9SRgYAx"
      },
      "source": [
        "## Test your model on Random data from your test set"
      ]
    },
    {
      "cell_type": "code",
      "execution_count": 30,
      "metadata": {
        "colab": {
          "base_uri": "https://localhost:8080/",
          "height": 439
        },
        "id": "SK6chQMLgYAx",
        "outputId": "a88b5adb-5d18-4ad2-8d3e-b25230c4481e"
      },
      "outputs": [
        {
          "data": {
            "image/png": "[encoded data removed]",
            "text/plain": [
              "<Figure size 500x500 with 1 Axes>"
            ]
          },
          "metadata": {},
          "output_type": "display_data"
        },
        {
          "name": "stdout",
          "output_type": "stream",
          "text": [
            "el valor predicho es: v el valor real es:v\n"
          ]
        }
      ],
      "source": [
        "idx = np.random.randint(len(y_test))\n",
        "plot_number(x_test[idx].reshape(28,28))\n",
        "pred = model.predict(x_test[idx].reshape(-1, 1))\n",
        "print(f'el valor predicho es: {alphabet[pred]} el valor real es:{alphabet[y_test[idx]]}')"
      ]
    },
    {
      "cell_type": "markdown",
      "metadata": {
        "id": "4HvbgHvwjO6-"
      },
      "source": [
        "# Conclusion"
      ]
    },
    {
      "cell_type": "markdown",
      "metadata": {
        "id": "tri6e8lXjWe1"
      },
      "source": [
        "We were able to reach a decent level of accuracy (>70%) NOT ONLY by tunning hyperparameters such as batch size, learning rate, epochs, etc. But we also modify the fully connected network architecture."
      ]
    }
  ],
  "metadata": {
    "colab": {
      "provenance": []
    },
    "kernelspec": {
      "display_name": "Python 3 (ipykernel)",
      "language": "python",
      "name": "python3"
    },
    "language_info": {
      "codemirror_mode": {
        "name": "ipython",
        "version": 3
      },
      "file_extension": ".py",
      "mimetype": "text/x-python",
      "name": "python",
      "nbconvert_exporter": "python",
      "pygments_lexer": "ipython3",
      "version": "3.8.0"
    },
    "toc": {
      "base_numbering": 1,
      "nav_menu": {},
      "number_sections": true,
      "sideBar": true,
      "skip_h1_title": false,
      "title_cell": "Table of Contents",
      "title_sidebar": "Contents",
      "toc_cell": false,
      "toc_position": {},
      "toc_section_display": true,
      "toc_window_display": false
    },
    "varInspector": {
      "cols": {
        "lenName": 16,
        "lenType": 16,
        "lenVar": 40
      },
      "kernels_config": {
        "python": {
          "delete_cmd_postfix": "",
          "delete_cmd_prefix": "del ",
          "library": "var_list.py",
          "varRefreshCmd": "print(var_dic_list())"
        },
        "r": {
          "delete_cmd_postfix": ") ",
          "delete_cmd_prefix": "rm(",
          "library": "var_list.r",
          "varRefreshCmd": "cat(var_dic_list()) "
        }
      },
      "types_to_exclude": [
        "module",
        "function",
        "builtin_function_or_method",
        "instance",
        "_Feature"
      ],
      "window_display": false
    }
  },
  "nbformat": 4,
  "nbformat_minor": 0
}
